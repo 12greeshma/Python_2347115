{
 "cells": [
  {
   "cell_type": "code",
   "execution_count": 39,
   "metadata": {},
   "outputs": [
    {
     "name": "stdout",
     "output_type": "stream",
     "text": [
      "numbers divisible by 3 [30, 15, 33, 15, 39, 42]\n",
      "numbers not divisible by 3 [13, 26, 26, 10, 10]\n",
      "square of even numbers [676, 900, 676, 100, 100, 1764]\n",
      "sum of digits of all even numbers in list: 144\n",
      "after removing [13, 26, 30, 15, 33, 39, 10, 42]\n"
     ]
    }
   ],
   "source": [
    "# 1 .LIST\n",
    "# Is the given list divisible by 3 or NOT?    \n",
    "\n",
    "Patient_age =[13,26,30,15,33,26,15,39,10,10,42]\n",
    "\n",
    "div = [ a for a in Patient_age if a%3==0]\n",
    "not_div = [a for a in Patient_age if a%3!=0]\n",
    "\n",
    "print(\"numbers divisible by 3\",div)\n",
    "print(\"numbers not divisible by 3\",not_div)\n",
    "\n",
    "\n",
    "#Square of even numbers in a list\n",
    "even_square = [i**2 for i in Patient_age if i%2==0]\n",
    "print(\"square of even numbers\",even_square)\n",
    "\n",
    "\n",
    "# Sum of digits of all EVEN numbers in a list\n",
    "sum_even = 0\n",
    "\n",
    "for j in Patient_age:\n",
    "    if j%2==0:\n",
    "        sum_even +=j\n",
    "print(\"sum of digits of all even numbers in list:\",sum_even)\n",
    "\n",
    "\n",
    "\n",
    "# Remove duplicate numbers in a list\n",
    "no_dup = []\n",
    "\n",
    "[no_dup.append(i) for i in Patient_age if i not in no_dup]\n",
    "print(\"after removing duplicates\",(no_dup))"
   ]
  },
  {
   "cell_type": "code",
   "execution_count": 40,
   "metadata": {},
   "outputs": [
    {
     "name": "stdout",
     "output_type": "stream",
     "text": [
      "Dictionary: {'Kiran': '5 March 1980', 'Laxmi': '18 July 1988', 'Vamsi': '31 May 1976', 'Deeraj': '4 April 1979', 'Kalyan': '28 June 1990', 'Priya': '5 August 1999'}\n",
      "31 May 1976\n"
     ]
    }
   ],
   "source": [
    "# 2. Dictionary\n",
    "\n",
    "hosp_doct = { \n",
    "            \"Kiran\" : \"5 March 1980\",\n",
    "            \"Laxmi\" : \"18 July 1988\",\n",
    "            \"Vamsi\" :  \"31 May 1976\",\n",
    "            \"Deeraj\" : \"4 April 1979\",\n",
    "            \"Kalyan\" : \"28 June 1990\",\n",
    "            \"Priya\" : \"5 August 1999\"\n",
    "            }\n",
    "print(\"Dictionary:\",hosp_doct)\n",
    "\n",
    "# Write a function birthDate() that takes the full name of your employees(as a string) and\n",
    "# displays the given employee’s birthdate.\n",
    "\n",
    "def birthDate(name):\n",
    "    if name in hosp_doct.keys():\n",
    "        print(hosp_doct.get(name))\n",
    "    else:\n",
    "        print(\"name not in dictionary\")\n",
    "\n",
    "name = input('enter name')\n",
    "birthDate(name)"
   ]
  }
 ],
 "metadata": {
  "kernelspec": {
   "display_name": "Python 3",
   "language": "python",
   "name": "python3"
  },
  "language_info": {
   "codemirror_mode": {
    "name": "ipython",
    "version": 3
   },
   "file_extension": ".py",
   "mimetype": "text/x-python",
   "name": "python",
   "nbconvert_exporter": "python",
   "pygments_lexer": "ipython3",
   "version": "3.11.3"
  },
  "orig_nbformat": 4
 },
 "nbformat": 4,
 "nbformat_minor": 2
}
